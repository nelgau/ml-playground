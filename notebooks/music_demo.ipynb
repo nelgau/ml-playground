{
 "cells": [
  {
   "cell_type": "code",
   "execution_count": null,
   "id": "71bdc1f6-5e78-4c39-8488-5fde7f747867",
   "metadata": {},
   "outputs": [],
   "source": [
    "import sys\n",
    "sys.path.append(\"../\")\n",
    "\n",
    "%load_ext autoreload\n",
    "%autoreload 2"
   ]
  },
  {
   "cell_type": "code",
   "execution_count": 22,
   "id": "5f921fda-4dc0-463f-8e95-a0f2349cb701",
   "metadata": {},
   "outputs": [],
   "source": [
    "from matplotlib import pyplot as plt\n",
    "import numpy as np\n",
    "import math\n",
    "\n",
    "%matplotlib inline"
   ]
  },
  {
   "cell_type": "code",
   "execution_count": 64,
   "id": "29f5dd25-b66f-4572-b980-4bfb90c9de86",
   "metadata": {},
   "outputs": [],
   "source": [
    "from music21 import corpus\n",
    "from playground import music"
   ]
  },
  {
   "cell_type": "code",
   "execution_count": null,
   "id": "baf80eef-900c-4da1-a23f-8af62ce2e547",
   "metadata": {},
   "outputs": [],
   "source": [
    "bcl = corpus.chorales.ChoraleListRKBWV()\n",
    "info = bcl.byRiemenschneider[7]\n",
    "c = corpus.parse(f\"bach/bwv{info['bwv']}\")\n",
    "\n",
    "music.show(c)"
   ]
  }
 ],
 "metadata": {
  "kernelspec": {
   "display_name": "ml-playground",
   "language": "python",
   "name": "ml-playground"
  },
  "language_info": {
   "codemirror_mode": {
    "name": "ipython",
    "version": 3
   },
   "file_extension": ".py",
   "mimetype": "text/x-python",
   "name": "python",
   "nbconvert_exporter": "python",
   "pygments_lexer": "ipython3",
   "version": "3.10.4"
  }
 },
 "nbformat": 4,
 "nbformat_minor": 5
}
